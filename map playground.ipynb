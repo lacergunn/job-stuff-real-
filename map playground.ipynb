{
 "cells": [
  {
   "cell_type": "code",
   "execution_count": null,
   "metadata": {},
   "outputs": [],
   "source": [
    "import folium as fl\n",
    "import numpy as np\n",
    "import io\n",
    "import selenium\n",
    "from PIL import Image\n",
    "import cv2\n",
    "from folium.plugins import MousePosition"
   ]
  },
  {
   "cell_type": "code",
   "execution_count": null,
   "metadata": {},
   "outputs": [],
   "source": [
    "targetLoc=(38.803490,-76.871508)\n",
    "view=2\n",
    "vertRange=view*4\n",
    "horzRange=view*8\n",
    "m2c=1/69\n",
    "boundSW=(targetLoc[0]-np.sqrt(8)/69,targetLoc[1]-np.sqrt(8)/69)\n",
    "boundNE=(targetLoc[0]+np.sqrt(8)/69,targetLoc[1]+np.sqrt(8)/69)"
   ]
  },
  {
   "cell_type": "code",
   "execution_count": null,
   "metadata": {},
   "outputs": [],
   "source": [
    "m = fl.Map(location=targetLoc)\n",
    "m.fit_bounds([boundSW,boundNE])\n",
    "MousePosition().add_to(m)"
   ]
  },
  {
   "cell_type": "code",
   "execution_count": null,
   "metadata": {},
   "outputs": [],
   "source": [
    "m"
   ]
  },
  {
   "cell_type": "code",
   "execution_count": null,
   "metadata": {},
   "outputs": [],
   "source": [
    "img_data = m._to_png(1)\n",
    "img = Image.open(io.BytesIO(img_data))\n",
    "img.save('image.png')\n",
    "im=cv2.imread('image.png')\n",
    "print(im.shape)\n",
    "centerPix = (im.shape[0]/2,im.shape[1]/2)\n",
    "centerCoord=targetLoc\n",
    "print(centerPix)\n",
    "vp2c=vertRange/im.shape[0]/69\n",
    "hp2c=horzRange/im.shape[1]/69\n",
    "print(vp2c,hp2c)"
   ]
  },
  {
   "cell_type": "code",
   "execution_count": null,
   "metadata": {},
   "outputs": [],
   "source": [
    "# function to display the coordinates of \n",
    "# of the points clicked on the image \n",
    "def click_event(event, x, y, flags, params): \n",
    "    xdif=x-centerPix[1]\n",
    "    ydif=y-centerPix[1]\n",
    "    xCoord=centerCoord[1]-(xdif*hp2c)\n",
    "    yCoord=centerCoord[0]-(ydif*vp2c)\n",
    "\n",
    "\t# checking for left mouse clicks \n",
    "\tif event == cv2.EVENT_LBUTTONDOWN: \n",
    "\n",
    "\t\t# displaying the coordinates \n",
    "\t\t# on the Shell \n",
    "\t\tprint(xCoord, ' ', yCoord) \n",
    "\n",
    "\t\t# displaying the coordinates \n",
    "\t\t# on the image window \n",
    "\t\tfont = cv2.FONT_HERSHEY_SIMPLEX \n",
    "\t\tcv2.imshow('image', img) \n",
    "\n",
    "\t# checking for right mouse clicks\t \n",
    "\tif event==cv2.EVENT_RBUTTONDOWN: \n",
    "\n",
    "\t\t# displaying the coordinates \n",
    "\t\t# on the Shell \n",
    "\t\tprint(xCoord, ' ', yCoord) \n",
    "\n",
    "\t\t# displaying the coordinates \n",
    "\t\t# on the image window \n",
    "\t\tfont = cv2.FONT_HERSHEY_SIMPLEX \n",
    "\t\tb = img[yCoord, xCoord, 0] \n",
    "\t\tg = img[yCoord, xCoord, 1] \n",
    "\t\tr = img[yCoord, xCoord, 2] \n",
    "\t\tcv2.putText(img, str(b) + ',' +\n",
    "\t\t\t\t\tstr(g) + ',' + str(r), \n",
    "\t\t\t\t\t(xCoord,yCoord), font, 1, \n",
    "\t\t\t\t\t(255, 255, 0), 2) \n",
    "\t\tcv2.imshow('image', img) "
   ]
  }
 ],
 "metadata": {
  "kernelspec": {
   "display_name": "Python 3",
   "language": "python",
   "name": "python3"
  },
  "language_info": {
   "codemirror_mode": {
    "name": "ipython",
    "version": 3
   },
   "file_extension": ".py",
   "mimetype": "text/x-python",
   "name": "python",
   "nbconvert_exporter": "python",
   "pygments_lexer": "ipython3",
   "version": "3.11.9"
  }
 },
 "nbformat": 4,
 "nbformat_minor": 2
}
