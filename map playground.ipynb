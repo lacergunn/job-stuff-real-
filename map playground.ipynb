{
 "cells": [
  {
   "cell_type": "code",
   "execution_count": 1,
   "metadata": {},
   "outputs": [],
   "source": [
    "import folium as fl\n",
    "import numpy as np\n",
    "import io\n",
    "import selenium\n",
    "from PIL import Image\n",
    "import cv2\n",
    "from folium.plugins import MousePosition"
   ]
  },
  {
   "cell_type": "code",
   "execution_count": 2,
   "metadata": {},
   "outputs": [],
   "source": [
    "targetLoc=(38.803490,-76.871508)\n",
    "view=2\n",
    "vertRange=view*4\n",
    "horzRange=view*8\n",
    "m2c=1/69\n",
    "boundSW=(targetLoc[0]-np.sqrt(8)/69,targetLoc[1]-np.sqrt(8)/69)\n",
    "boundNE=(targetLoc[0]+np.sqrt(8)/69,targetLoc[1]+np.sqrt(8)/69)"
   ]
  },
  {
   "cell_type": "code",
   "execution_count": 3,
   "metadata": {},
   "outputs": [
    {
     "data": {
      "text/plain": [
       "<folium.plugins.mouse_position.MousePosition at 0x1ce68673a90>"
      ]
     },
     "execution_count": 3,
     "metadata": {},
     "output_type": "execute_result"
    }
   ],
   "source": [
    "m = fl.Map(location=targetLoc)\n",
    "m.fit_bounds([boundSW,boundNE])\n",
    "MousePosition().add_to(m)"
   ]
  },
  {
   "cell_type": "code",
   "execution_count": 4,
   "metadata": {},
   "outputs": [
    {
     "data": {
      "text/html": [
       "<div style=\"width:100%;\"><div style=\"position:relative;width:100%;height:0;padding-bottom:60%;\"><span style=\"color:#565656\">Make this Notebook Trusted to load map: File -> Trust Notebook</span><iframe srcdoc=\"&lt;!DOCTYPE html&gt;\n",
       "&lt;html&gt;\n",
       "&lt;head&gt;\n",
       "    \n",
       "    &lt;meta http-equiv=&quot;content-type&quot; content=&quot;text/html; charset=UTF-8&quot; /&gt;\n",
       "    \n",
       "        &lt;script&gt;\n",
       "            L_NO_TOUCH = false;\n",
       "            L_DISABLE_3D = false;\n",
       "        &lt;/script&gt;\n",
       "    \n",
       "    &lt;style&gt;html, body {width: 100%;height: 100%;margin: 0;padding: 0;}&lt;/style&gt;\n",
       "    &lt;style&gt;#map {position:absolute;top:0;bottom:0;right:0;left:0;}&lt;/style&gt;\n",
       "    &lt;script src=&quot;https://cdn.jsdelivr.net/npm/leaflet@1.9.3/dist/leaflet.js&quot;&gt;&lt;/script&gt;\n",
       "    &lt;script src=&quot;https://code.jquery.com/jquery-3.7.1.min.js&quot;&gt;&lt;/script&gt;\n",
       "    &lt;script src=&quot;https://cdn.jsdelivr.net/npm/bootstrap@5.2.2/dist/js/bootstrap.bundle.min.js&quot;&gt;&lt;/script&gt;\n",
       "    &lt;script src=&quot;https://cdnjs.cloudflare.com/ajax/libs/Leaflet.awesome-markers/2.0.2/leaflet.awesome-markers.js&quot;&gt;&lt;/script&gt;\n",
       "    &lt;link rel=&quot;stylesheet&quot; href=&quot;https://cdn.jsdelivr.net/npm/leaflet@1.9.3/dist/leaflet.css&quot;/&gt;\n",
       "    &lt;link rel=&quot;stylesheet&quot; href=&quot;https://cdn.jsdelivr.net/npm/bootstrap@5.2.2/dist/css/bootstrap.min.css&quot;/&gt;\n",
       "    &lt;link rel=&quot;stylesheet&quot; href=&quot;https://netdna.bootstrapcdn.com/bootstrap/3.0.0/css/bootstrap.min.css&quot;/&gt;\n",
       "    &lt;link rel=&quot;stylesheet&quot; href=&quot;https://cdn.jsdelivr.net/npm/@fortawesome/fontawesome-free@6.2.0/css/all.min.css&quot;/&gt;\n",
       "    &lt;link rel=&quot;stylesheet&quot; href=&quot;https://cdnjs.cloudflare.com/ajax/libs/Leaflet.awesome-markers/2.0.2/leaflet.awesome-markers.css&quot;/&gt;\n",
       "    &lt;link rel=&quot;stylesheet&quot; href=&quot;https://cdn.jsdelivr.net/gh/python-visualization/folium/folium/templates/leaflet.awesome.rotate.min.css&quot;/&gt;\n",
       "    \n",
       "            &lt;meta name=&quot;viewport&quot; content=&quot;width=device-width,\n",
       "                initial-scale=1.0, maximum-scale=1.0, user-scalable=no&quot; /&gt;\n",
       "            &lt;style&gt;\n",
       "                #map_2db0b5c40ae2d60367fca098a5fe2213 {\n",
       "                    position: relative;\n",
       "                    width: 100.0%;\n",
       "                    height: 100.0%;\n",
       "                    left: 0.0%;\n",
       "                    top: 0.0%;\n",
       "                }\n",
       "                .leaflet-container { font-size: 1rem; }\n",
       "            &lt;/style&gt;\n",
       "        \n",
       "    &lt;script src=&quot;https://cdn.jsdelivr.net/gh/ardhi/Leaflet.MousePosition/src/L.Control.MousePosition.min.js&quot;&gt;&lt;/script&gt;\n",
       "    &lt;link rel=&quot;stylesheet&quot; href=&quot;https://cdn.jsdelivr.net/gh/ardhi/Leaflet.MousePosition/src/L.Control.MousePosition.min.css&quot;/&gt;\n",
       "&lt;/head&gt;\n",
       "&lt;body&gt;\n",
       "    \n",
       "    \n",
       "            &lt;div class=&quot;folium-map&quot; id=&quot;map_2db0b5c40ae2d60367fca098a5fe2213&quot; &gt;&lt;/div&gt;\n",
       "        \n",
       "&lt;/body&gt;\n",
       "&lt;script&gt;\n",
       "    \n",
       "    \n",
       "            var map_2db0b5c40ae2d60367fca098a5fe2213 = L.map(\n",
       "                &quot;map_2db0b5c40ae2d60367fca098a5fe2213&quot;,\n",
       "                {\n",
       "                    center: [38.80349, -76.871508],\n",
       "                    crs: L.CRS.EPSG3857,\n",
       "                    zoom: 10,\n",
       "                    zoomControl: true,\n",
       "                    preferCanvas: false,\n",
       "                }\n",
       "            );\n",
       "\n",
       "            \n",
       "\n",
       "        \n",
       "    \n",
       "            var tile_layer_a694a065c05c09d14d85c5e994790bd1 = L.tileLayer(\n",
       "                &quot;https://tile.openstreetmap.org/{z}/{x}/{y}.png&quot;,\n",
       "                {&quot;attribution&quot;: &quot;\\u0026copy; \\u003ca href=\\&quot;https://www.openstreetmap.org/copyright\\&quot;\\u003eOpenStreetMap\\u003c/a\\u003e contributors&quot;, &quot;detectRetina&quot;: false, &quot;maxNativeZoom&quot;: 19, &quot;maxZoom&quot;: 19, &quot;minZoom&quot;: 0, &quot;noWrap&quot;: false, &quot;opacity&quot;: 1, &quot;subdomains&quot;: &quot;abc&quot;, &quot;tms&quot;: false}\n",
       "            );\n",
       "        \n",
       "    \n",
       "            tile_layer_a694a065c05c09d14d85c5e994790bd1.addTo(map_2db0b5c40ae2d60367fca098a5fe2213);\n",
       "        \n",
       "    \n",
       "            map_2db0b5c40ae2d60367fca098a5fe2213.fitBounds(\n",
       "                [[38.7624983025399, -76.91249969746009], [38.84448169746009, -76.83051630253992]],\n",
       "                {}\n",
       "            );\n",
       "        \n",
       "    \n",
       "            var mouse_position_48edd9a93d4f814ab4335849d8348ca7 = new L.Control.MousePosition(\n",
       "                {&quot;emptyString&quot;: &quot;Unavailable&quot;, &quot;lngFirst&quot;: false, &quot;numDigits&quot;: 5, &quot;position&quot;: &quot;bottomright&quot;, &quot;prefix&quot;: &quot;&quot;, &quot;separator&quot;: &quot; : &quot;}\n",
       "            );\n",
       "            mouse_position_48edd9a93d4f814ab4335849d8348ca7.options[&quot;latFormatter&quot;] =\n",
       "                undefined;\n",
       "            mouse_position_48edd9a93d4f814ab4335849d8348ca7.options[&quot;lngFormatter&quot;] =\n",
       "                undefined;\n",
       "            map_2db0b5c40ae2d60367fca098a5fe2213.addControl(mouse_position_48edd9a93d4f814ab4335849d8348ca7);\n",
       "        \n",
       "&lt;/script&gt;\n",
       "&lt;/html&gt;\" style=\"position:absolute;width:100%;height:100%;left:0;top:0;border:none !important;\" allowfullscreen webkitallowfullscreen mozallowfullscreen></iframe></div></div>"
      ],
      "text/plain": [
       "<folium.folium.Map at 0x1ce47c63d90>"
      ]
     },
     "execution_count": 4,
     "metadata": {},
     "output_type": "execute_result"
    }
   ],
   "source": [
    "m"
   ]
  },
  {
   "cell_type": "code",
   "execution_count": 5,
   "metadata": {},
   "outputs": [
    {
     "name": "stdout",
     "output_type": "stream",
     "text": [
      "(768, 1366, 3)\n",
      "(384.0, 683.0)\n",
      "0.00015096618357487922 0.00016975406879283638\n"
     ]
    }
   ],
   "source": [
    "img_data = m._to_png(1)\n",
    "img = Image.open(io.BytesIO(img_data))\n",
    "img.save('image.png')\n",
    "im=cv2.imread('image.png')\n",
    "print(im.shape)\n",
    "centerPix = (im.shape[0]/2,im.shape[1]/2)\n",
    "centerCoord=targetLoc\n",
    "print(centerPix)\n",
    "vp2c=vertRange/im.shape[0]/69\n",
    "hp2c=horzRange/im.shape[1]/69\n",
    "print(vp2c,hp2c)"
   ]
  },
  {
   "cell_type": "code",
   "execution_count": 6,
   "metadata": {},
   "outputs": [
    {
     "ename": "TabError",
     "evalue": "inconsistent use of tabs and spaces in indentation (4162932687.py, line 10)",
     "output_type": "error",
     "traceback": [
      "\u001b[1;36m  Cell \u001b[1;32mIn[6], line 10\u001b[1;36m\u001b[0m\n\u001b[1;33m    if event == cv2.EVENT_LBUTTONDOWN:\u001b[0m\n\u001b[1;37m    ^\u001b[0m\n\u001b[1;31mTabError\u001b[0m\u001b[1;31m:\u001b[0m inconsistent use of tabs and spaces in indentation\n"
     ]
    }
   ],
   "source": [
    "# function to display the coordinates of \n",
    "# of the points clicked on the image \n",
    "def click_event(event, x, y, flags, params): \n",
    "    xdif=x-centerPix[1]\n",
    "    ydif=y-centerPix[1]\n",
    "    xCoord=centerCoord[1]-(xdif*hp2c)\n",
    "    yCoord=centerCoord[0]-(ydif*vp2c)\n",
    "\n",
    "\t# checking for left mouse clicks \n",
    "\tif event == cv2.EVENT_LBUTTONDOWN: \n",
    "\n",
    "\t\t# displaying the coordinates \n",
    "\t\t# on the Shell \n",
    "\t\tprint(xCoord, ' ', yCoord) \n",
    "\n",
    "\t\t# displaying the coordinates \n",
    "\t\t# on the image window \n",
    "\t\tfont = cv2.FONT_HERSHEY_SIMPLEX \n",
    "\t\tcv2.imshow('image', img) \n",
    "\n",
    "\t# checking for right mouse clicks\t \n",
    "\tif event==cv2.EVENT_RBUTTONDOWN: \n",
    "\n",
    "\t\t# displaying the coordinates \n",
    "\t\t# on the Shell \n",
    "\t\tprint(xCoord, ' ', yCoord) \n",
    "\n",
    "\t\t# displaying the coordinates \n",
    "\t\t# on the image window \n",
    "\t\tfont = cv2.FONT_HERSHEY_SIMPLEX \n",
    "\t\tb = img[yCoord, xCoord, 0] \n",
    "\t\tg = img[yCoord, xCoord, 1] \n",
    "\t\tr = img[yCoord, xCoord, 2] \n",
    "\t\tcv2.putText(img, str(b) + ',' +\n",
    "\t\t\t\t\tstr(g) + ',' + str(r), \n",
    "\t\t\t\t\t(xCoord,yCoord), font, 1, \n",
    "\t\t\t\t\t(255, 255, 0), 2) \n",
    "\t\tcv2.imshow('image', img) "
   ]
  }
 ],
 "metadata": {
  "kernelspec": {
   "display_name": "Python 3",
   "language": "python",
   "name": "python3"
  },
  "language_info": {
   "codemirror_mode": {
    "name": "ipython",
    "version": 3
   },
   "file_extension": ".py",
   "mimetype": "text/x-python",
   "name": "python",
   "nbconvert_exporter": "python",
   "pygments_lexer": "ipython3",
   "version": "3.11.9"
  }
 },
 "nbformat": 4,
 "nbformat_minor": 2
}
