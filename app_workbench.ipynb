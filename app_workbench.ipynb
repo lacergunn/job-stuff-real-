{
 "cells": [
  {
   "cell_type": "code",
   "execution_count": 27,
   "metadata": {},
   "outputs": [],
   "source": [
    "import serial\n",
    "import tkinter\n",
    "from tkinter import *\n",
    "import folium as fl\n",
    "import numpy as np\n",
    "import io\n",
    "import selenium\n",
    "from PIL import Image\n",
    "import cv2\n",
    "from folium.plugins import MousePosition\n",
    "from PIL import Image, ImageTk\n",
    "import time"
   ]
  },
  {
   "cell_type": "markdown",
   "metadata": {},
   "source": [
    "Seting up the map (Takes about 80 seconds)"
   ]
  },
  {
   "cell_type": "code",
   "execution_count": 28,
   "metadata": {},
   "outputs": [],
   "source": [
    "arduino = serial.Serial(port='COM5', baudrate=9600, timeout=.1) "
   ]
  },
  {
   "cell_type": "code",
   "execution_count": 29,
   "metadata": {},
   "outputs": [],
   "source": [
    "#Sends message to bluetooth over Serial comm, saves response\n",
    "def write_read(x): \n",
    "\tarduino.write(bytes(x, 'utf-8')) \n",
    "\ttime.sleep(0.05) \n",
    "\tdata = arduino.readline() \n",
    "\treturn data \n",
    "\n",
    "#sends whatever to the ardy\n",
    "def write(x):\n",
    "    arduino.write(bytes(x, 'utf-8')) \n",
    "    time.sleep(0.05)\n",
    "\n",
    "#Gets GPS Coordinates from Arduino\n",
    "def getLoc():\n",
    "    #Gets the current GPS location from the ardy\n",
    "    loc=write_read(\"Refreshing position\")\n",
    "    loc=str(loc,'utf-8')\n",
    "    loc=write_read(\"Asking for coordinates\")\n",
    "    loc=str(loc,'utf-8')\n",
    "    print(\"Robot GPS Coordinates:\",loc)\n",
    "    lat=float(loc[:loc.find(\",\")])\n",
    "    lng=float(loc[loc.find(\",\")+1:])\n",
    "    coords=[lat,lng]\n",
    "    return coords"
   ]
  },
  {
   "cell_type": "code",
   "execution_count": 30,
   "metadata": {},
   "outputs": [
    {
     "name": "stdout",
     "output_type": "stream",
     "text": [
      "Robot GPS Coordinates: 38.816368,-76.880790\n",
      "\n"
     ]
    }
   ],
   "source": [
    "startingLoc=getLoc()\n",
    "targetLoc=(startingLoc[0],startingLoc[1])\n",
    "view=2\n",
    "vertRange=view*4\n",
    "horzRange=view*8\n",
    "m2c=1/69\n",
    "boundSW=(targetLoc[0]-np.sqrt(8)/(69*5280),targetLoc[1]-np.sqrt(8)/(69*5280))\n",
    "boundNE=(targetLoc[0]+np.sqrt(8)/(69*5280),targetLoc[1]+np.sqrt(8)/(69*5280))"
   ]
  },
  {
   "cell_type": "code",
   "execution_count": 31,
   "metadata": {},
   "outputs": [
    {
     "data": {
      "text/plain": [
       "<folium.plugins.mouse_position.MousePosition at 0x1d2be3a6b10>"
      ]
     },
     "execution_count": 31,
     "metadata": {},
     "output_type": "execute_result"
    }
   ],
   "source": [
    "m = fl.Map(location=targetLoc)\n",
    "m.fit_bounds([boundSW,boundNE])\n",
    "MousePosition().add_to(m)"
   ]
  },
  {
   "cell_type": "code",
   "execution_count": 32,
   "metadata": {},
   "outputs": [
    {
     "name": "stdout",
     "output_type": "stream",
     "text": [
      "(768, 1366, 3)\n",
      "(384.0, 683.0)\n",
      "0.00015096618357487922 0.00016975406879283638\n"
     ]
    }
   ],
   "source": [
    "img_data = m._to_png(1)\n",
    "img = Image.open(io.BytesIO(img_data))\n",
    "img.save('image.png')\n",
    "im=cv2.imread('image.png')\n",
    "print(im.shape)\n",
    "centerPix = (im.shape[0]/2,im.shape[1]/2)\n",
    "centerCoord=targetLoc\n",
    "print(centerPix)\n",
    "vp2c=vertRange/im.shape[0]/69\n",
    "hp2c=horzRange/im.shape[1]/69\n",
    "print(vp2c,hp2c)"
   ]
  },
  {
   "cell_type": "code",
   "execution_count": 33,
   "metadata": {},
   "outputs": [],
   "source": [
    "xCoord=0\n",
    "yCoord=0\n"
   ]
  },
  {
   "cell_type": "code",
   "execution_count": 34,
   "metadata": {},
   "outputs": [],
   "source": [
    "image1 = Image.open(\"image.png\")\n",
    "\n",
    "\n",
    "root = Tk()\n",
    "f=root.frame()\n",
    "root.title(\"Map\")\n",
    "top = Toplevel()\n",
    "top.title(\"Robot Controls\")\n",
    "# Create a photoimage object of the image in the path\n",
    "test = ImageTk.PhotoImage(image1)\n",
    "label1 = tkinter.Label(image=test)\n",
    "canvas= Canvas(root, width=test.width(), height=test.height())\n",
    "\n",
    "canvas.create_image(50, 10, image=test, anchor=NW)\n",
    "canvas.pack()\n",
    "\n",
    "T=Text(top)\n"
   ]
  },
  {
   "cell_type": "markdown",
   "metadata": {},
   "source": [
    "Gets the computer communicating with the robot"
   ]
  },
  {
   "cell_type": "code",
   "execution_count": 36,
   "metadata": {},
   "outputs": [],
   "source": [
    "#Sends message to bluetooth over Serial comm, saves response\n",
    "def write_read(x): \n",
    "\tarduino.write(bytes(x, 'utf-8')) \n",
    "\ttime.sleep(0.05) \n",
    "\tdata = arduino.readline() \n",
    "\treturn data \n",
    "\n",
    "#sends whatever to the ardy\n",
    "def write(x):\n",
    "    arduino.write(bytes(x, 'utf-8')) \n",
    "    time.sleep(0.05)\n",
    "\n",
    "#Gets GPS Coordinates from Arduino\n",
    "def getLoc():\n",
    "    '''Gets the current GPS location from the ardy'''\n",
    "    loc=write_read(\"Refreshing position\")\n",
    "    loc=str(loc,'utf-8')\n",
    "    loc=write_read(\"Asking for coordinates\")\n",
    "    loc=str(loc,'utf-8')\n",
    "    print(\"Robot GPS Coordinates:\",loc)\n",
    "    lat=float(loc[:loc.find(\",\")])\n",
    "    lng=float(loc[loc.find(\",\")+1:])\n",
    "    coords=[lat,lng]\n",
    "    return coords"
   ]
  },
  {
   "cell_type": "markdown",
   "metadata": {},
   "source": [
    "Sets up the user interface"
   ]
  },
  {
   "cell_type": "code",
   "execution_count": 37,
   "metadata": {},
   "outputs": [],
   "source": [
    "def key(event):\n",
    "    print(\"pressed\", repr(event.char))\n",
    "    \n",
    "def callback(event):\n",
    "    canvas.delete(\"all\")\n",
    "    canvas.create_image(50, 10, image=test, anchor=NW)\n",
    "    print(\"clicked at\", event.x, event.y)\n",
    "    xdif=event.x-centerPix[1]\n",
    "    ydif=event.y-centerPix[1]\n",
    "    xCoord=centerCoord[0]-(xdif*hp2c)\n",
    "    yCoord=centerCoord[1]-(ydif*vp2c)\n",
    "    print(\"Click GPS is\",xCoord,yCoord)\n",
    "    #canvas.create_oval(event.x, event.y, event.x, event.y, width = 5, fill = 'white')\n",
    "    canvas.create_text(event.x,event.y,text=\"GPS Location is \"+str(xCoord)+\",\"+str(yCoord))\n",
    "    T.delete(\"1.0\",\"end\")\n",
    "    T.insert(END,\"Selected position: \"+str(xCoord)+','+str(yCoord))\n",
    "    \n",
    "\n",
    "#canvas= Canvas(root, width=test.width(), height=test.height())\n",
    "canvas.bind(\"<Key>\", key)\n",
    "canvas.place(relx=0,rely=0,anchor=NW)\n",
    "canvas.bind(\"<Button-1>\", callback)\n",
    "canvas.create_image(50, 10, image=test, anchor=NW)\n",
    "canvas.pack()\n"
   ]
  },
  {
   "cell_type": "code",
   "execution_count": 38,
   "metadata": {},
   "outputs": [],
   "source": [
    "# Top level window \n",
    "# Function for getting Input \n",
    "# from textbox and printing it \n",
    "# at label widget \n",
    "\n",
    "def sendCoords(): \n",
    "    print(\"Test 1\")\n",
    "    loc=getLoc()\n",
    "    print(loc)\n",
    "    print(\"Test 2\")\n",
    "    write_read(str(xCoord)+','+str(yCoord))\n",
    "    lbl.config(text = \"Coordinates sent to robot\")\n",
    " \n",
    "\n",
    "# TextBox Creation \n",
    "inputtxt = Text(top, \n",
    "\t\t\t\theight = 5, \n",
    "\t\t\t\twidth = 20) \n",
    "\n",
    "inputtxt.pack() \n",
    "\n",
    "# Button Creation \n",
    "printButton = Button(top, \n",
    "\t\t\t\t\t\ttext = \"New Coordinates\", \n",
    "\t\t\t\t\t\tcommand = sendCoords) \n",
    "printButton.pack() \n",
    "\n",
    "'''refreshButton = Button(top, \n",
    "\t\t\t\t\t\ttext = \"Refresh Map\", \n",
    "\t\t\t\t\t\tcommand = refreshMap) \n",
    "refreshButton.pack()'''\n",
    "\n",
    "\n",
    "# Label Creation \n",
    "lbl = Label(top, text = \"\") \n",
    "lbl.pack() \n",
    "#T.pack()"
   ]
  },
  {
   "cell_type": "code",
   "execution_count": 39,
   "metadata": {},
   "outputs": [
    {
     "name": "stdout",
     "output_type": "stream",
     "text": [
      "clicked at 778 335\n",
      "Click GPS is 38.80024136346468 -76.82825376811594\n",
      "Test 1\n",
      "Robot GPS Coordinates: 38.816368,-76.880790\n",
      "\n",
      "[38.816368, -76.88079]\n",
      "Test 2\n",
      "clicked at 589 219\n",
      "Click GPS is 38.83232488246652 -76.81074169082126\n",
      "clicked at 535 347\n",
      "Click GPS is 38.841491602181335 -76.83006536231885\n"
     ]
    }
   ],
   "source": [
    "root.minsize(test.width(),test.height())\n",
    "root.mainloop()\n",
    "arduino.close()"
   ]
  }
 ],
 "metadata": {
  "kernelspec": {
   "display_name": "Python 3",
   "language": "python",
   "name": "python3"
  },
  "language_info": {
   "codemirror_mode": {
    "name": "ipython",
    "version": 3
   },
   "file_extension": ".py",
   "mimetype": "text/x-python",
   "name": "python",
   "nbconvert_exporter": "python",
   "pygments_lexer": "ipython3",
   "version": "3.11.9"
  }
 },
 "nbformat": 4,
 "nbformat_minor": 2
}
