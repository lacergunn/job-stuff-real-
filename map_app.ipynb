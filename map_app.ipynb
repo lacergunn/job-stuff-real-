{
 "cells": [
  {
   "cell_type": "code",
   "execution_count": null,
   "metadata": {},
   "outputs": [],
   "source": [
    "import serial\n",
    "import tkinter as tk\n",
    "from tkinter import canvas\n",
    "import folium as fl\n",
    "import numpy as np\n",
    "import io\n",
    "import selenium\n",
    "from PIL import Image\n",
    "import cv2\n",
    "from folium.plugins import MousePosition"
   ]
  },
  {
   "cell_type": "code",
   "execution_count": null,
   "metadata": {},
   "outputs": [],
   "source": []
  }
 ],
 "metadata": {
  "kernelspec": {
   "display_name": "Python 3",
   "language": "python",
   "name": "python3"
  },
  "language_info": {
   "name": "python",
   "version": "3.11.9"
  }
 },
 "nbformat": 4,
 "nbformat_minor": 2
}
