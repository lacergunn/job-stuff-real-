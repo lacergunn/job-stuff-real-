{
 "cells": [
  {
   "cell_type": "code",
   "execution_count": 1,
   "metadata": {},
   "outputs": [],
   "source": [
    "import serial\n",
    "import tkinter\n",
    "from tkinter import *\n",
    "import folium as fl\n",
    "import numpy as np\n",
    "import io\n",
    "import selenium\n",
    "from PIL import Image\n",
    "import cv2\n",
    "from folium.plugins import MousePosition\n",
    "from PIL import Image, ImageTk"
   ]
  },
  {
   "cell_type": "code",
   "execution_count": 2,
   "metadata": {},
   "outputs": [
    {
     "name": "stderr",
     "output_type": "stream",
     "text": [
      "\n",
      "KeyboardInterrupt\n",
      "\n"
     ]
    }
   ],
   "source": [
    "image1 = Image.open(\"image.png\")\n",
    "\n",
    "root = Tk()\n",
    "# Create a photoimage object of the image in the path\n",
    "test = ImageTk.PhotoImage(image1)\n",
    "label1 = tkinter.Label(image=test)\n",
    "\n",
    "targetLoc=(38.803490,-76.871508)\n",
    "view=2\n",
    "vertRange=view*4\n",
    "horzRange=view*8\n",
    "m2c=1/69\n",
    "boundSW=(targetLoc[0]-np.sqrt(8)/69,targetLoc[1]-np.sqrt(8)/69)\n",
    "boundNE=(targetLoc[0]+np.sqrt(8)/69,targetLoc[1]+np.sqrt(8)/69)\n",
    "centerPix = (test.height()/2,test.width()/2)\n",
    "centerCoord=targetLoc\n",
    "vp2c=vertRange/test.height()/69\n",
    "hp2c=horzRange/test.width()/69\n",
    "print(vp2c,hp2c)\n",
    "\n",
    "def key(event):\n",
    "    print(\"pressed\", repr(event.char))\n",
    "\n",
    "def callback(event):\n",
    "    canvas.delete(\"all\")\n",
    "    print(\"clicked at\", event.x, event.y)\n",
    "    xdif=event.x-centerPix[1]\n",
    "    ydif=event.y-centerPix[1]\n",
    "    xCoord=centerCoord[1]-(xdif*hp2c)\n",
    "    yCoord=centerCoord[0]-(ydif*vp2c)\n",
    "    print(\"Click GPS is\",xCoord,yCoord)\n",
    "\n",
    "canvas= Canvas(root, width=test.width(), height=test.height())\n",
    "canvas.bind(\"<Key>\", key)\n",
    "canvas.bind(\"<Button-1>\", callback)\n",
    "canvas.create_image(50, 10, image=test, anchor=NW)\n",
    "canvas.pack()\n",
    "root.minsize(400,400)\n",
    "root.mainloop()"
   ]
  }
 ],
 "metadata": {
  "kernelspec": {
   "display_name": "Python 3",
   "language": "python",
   "name": "python3"
  },
  "language_info": {
   "codemirror_mode": {
    "name": "ipython",
    "version": 3
   },
   "file_extension": ".py",
   "mimetype": "text/x-python",
   "name": "python",
   "nbconvert_exporter": "python",
   "pygments_lexer": "ipython3",
   "version": "3.11.9"
  }
 },
 "nbformat": 4,
 "nbformat_minor": 2
}
