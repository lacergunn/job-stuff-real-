{
 "cells": [
  {
   "cell_type": "code",
   "execution_count": null,
   "metadata": {},
   "outputs": [],
   "source": [
    "import serial\n",
    "import tkinter\n",
    "from tkinter import *\n",
    "import folium as fl\n",
    "import numpy as np\n",
    "import io\n",
    "import selenium\n",
    "from PIL import Image\n",
    "import cv2\n",
    "from folium.plugins import MousePosition\n",
    "from PIL import Image, ImageTk"
   ]
  },
  {
   "cell_type": "code",
   "execution_count": null,
   "metadata": {},
   "outputs": [],
   "source": [
    "image1 = Image.open(\"image.png\")\n",
    "\n",
    "\n",
    "root = Tk()\n",
    "# Create a photoimage object of the image in the path\n",
    "test = ImageTk.PhotoImage(image1)\n",
    "label1 = tkinter.Label(image=test)\n",
    "label1.image = test\n",
    "# Position image\n",
    "label1.place(x=50, y=50)\n",
    "\n",
    "def key(event):\n",
    "    print(\"pressed\", repr(event.char))\n",
    "\n",
    "def callback(event):\n",
    "    print(\"clicked at\", event.x, event.y)\n",
    "\n",
    "canvas= Canvas(root, width=100, height=100)\n",
    "canvas.bind(\"<Key>\", key)\n",
    "canvas.bind(\"<Button-1>\", callback)\n",
    "canvas.pack()\n",
    "root.mainloop()"
   ]
  }
 ],
 "metadata": {
  "kernelspec": {
   "display_name": "Python 3",
   "language": "python",
   "name": "python3"
  },
  "language_info": {
   "codemirror_mode": {
    "name": "ipython",
    "version": 3
   },
   "file_extension": ".py",
   "mimetype": "text/x-python",
   "name": "python",
   "nbconvert_exporter": "python",
   "pygments_lexer": "ipython3",
   "version": "3.11.9"
  }
 },
 "nbformat": 4,
 "nbformat_minor": 2
}
